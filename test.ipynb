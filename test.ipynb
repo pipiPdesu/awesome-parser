{
 "cells": [
  {
   "cell_type": "code",
   "execution_count": 6,
   "metadata": {},
   "outputs": [
    {
     "name": "stdout",
     "output_type": "stream",
     "text": [
      "# A7. Prompt Injection\n",
      "- [2024/06] **[Adversarial Search Engine Optimization for Large Language Models](https://arxiv.org/abs/2406.18382)** ![LLM](https://img.shields.io/badge/LLM-589cf4) ![RAG](https://img.shields.io/badge/RAG-87b800)\n",
      "- [2024/06] **[Prompt Injection Attacks in Defended Systems](https://arxiv.org/abs/2406.14048)** ![LLM](https://img.shields.io/badge/LLM-589cf4)\n",
      "- [2024/06] **[AgentDojo: A Dynamic Environment to Evaluate Attacks and Defenses for LLM Agents](https://arxiv.org/abs/2406.13352)** ![LLM](https://img.shields.io/badge/LLM-589cf4) ![Agent](https://img.shields.io/badge/Agent-87b800)\n",
      "- [2024/05] **[Preemptive Answer \"Attacks\" on Chain-of-Thought Reasoning](https://arxiv.org/abs/2405.20902)** ![LLM](https://img.shields.io/badge/LLM-589cf4)\n",
      "- [2024/04] **[Goal-guided Generative Prompt Injection Attack on Large Language Models](https://arxiv.org/abs/2404.07234)** ![LLM](https://img.shields.io/badge/LLM-589cf4)\n",
      "- [2024/03] **[Optimization-based Prompt Injection Attack to LLM-as-a-Judge](https://arxiv.org/abs/2403.17710)** ![LLM](https://img.shields.io/badge/LLM-589cf4)\n",
      "- [2024/03] **[Defending Against Indirect Prompt Injection Attacks With Spotlighting](https://arxiv.org/abs/2403.14720)** ![LLM](https://img.shields.io/badge/LLM-589cf4) ![Defense](https://img.shields.io/badge/Defense-87b800)\n",
      "- [2024/03] **[Scaling Behavior of Machine Translation with Large Language Models under Prompt Injection Attacks](https://arxiv.org/abs/2403.09832)** ![LLM](https://img.shields.io/badge/LLM-589cf4)\n",
      "- [2024/03] **[Automatic and Universal Prompt Injection Attacks against Large Language Models](https://arxiv.org/abs/2403.04957)** [<img src=\"https://github.com/FortAwesome/Font-Awesome/blob/6.x/svgs/brands/github.svg\" alt=\"Code\" width=\"15\" height=\"15\">](https://github.com/SheltonLiu-N/Universal-Prompt-Injection) ![LLM](https://img.shields.io/badge/LLM-589cf4)\n",
      "- [2024/03] **[Neural Exec: Learning (and Learning from) Execution Triggers for Prompt Injection Attacks](https://arxiv.org/abs/2403.03792)** ![LLM](https://img.shields.io/badge/LLM-589cf4)\n",
      "- [2024/03] **[InjecAgent: Benchmarking Indirect Prompt Injections in Tool-Integrated Large Language Model Agents](https://arxiv.org/abs/2403.02691)** [<img src=\"https://github.com/FortAwesome/Font-Awesome/blob/6.x/svgs/brands/github.svg\" alt=\"Code\" width=\"15\" height=\"15\">](https://github.com/uiuc-kang-lab/InjecAgent) ![LLM](https://img.shields.io/badge/LLM-589cf4) ![Benchmark](https://img.shields.io/badge/Benchmark-87b800)\n",
      "- [2023/11] **[Exploiting Large Language Models (LLMs) through Deception Techniques and Persuasion Principles](https://arxiv.org/abs/2311.14876)** ![LLM](https://img.shields.io/badge/LLM-589cf4)\n",
      "- [2023/11] **[Ignore This Title and HackAPrompt: Exposing Systemic Vulnerabilities of LLMs through a Global Scale Prompt Hacking Competition](https://arxiv.org/abs/2311.16119)** ![LLM](https://img.shields.io/badge/LLM-589cf4)\n",
      "- [2023/10] **[Prompt Injection Attacks and Defenses in LLM-Integrated Applications](https://arxiv.org/abs/2310.12815)** [<img src=\"https://github.com/FortAwesome/Font-Awesome/blob/6.x/svgs/brands/github.svg\" alt=\"Code\" width=\"15\" height=\"15\">](https://github.com/liu00222/Open-Prompt-Injection) ![LLM](https://img.shields.io/badge/LLM-589cf4) ![Defense](https://img.shields.io/badge/Defense-87b800)\n",
      "- [2023/09] **[Tensor Trust: Interpretable Prompt Injection Attacks from an Online Game](https://openreview.net/forum?id=fsW7wJGLBd)** ![LLM](https://img.shields.io/badge/LLM-589cf4) ![New_dataset](https://img.shields.io/badge/New_dataset-87b800) ![ICLR'24_(Spotlight)](https://img.shields.io/badge/ICLR'24_(Spotlight)-f1b800)\n",
      "- [2023/06] **[Prompt Injection Attack against LLM-integrated Applications](https://arxiv.org/abs/2306.05499)** ![LLM](https://img.shields.io/badge/LLM-589cf4)\n",
      "- [2023/02] **[Not what you've signed up for: Compromising Real-World LLM-Integrated Applications with Indirect Prompt Injection](https://arxiv.org/abs/2302.12173v2)** ![LLM](https://img.shields.io/badge/LLM-589cf4) ![AISec_'23](https://img.shields.io/badge/AISec_'23-f1b800) ![Best Paper](https://img.shields.io/badge/Best_paper-ff0000)\n",
      "\n",
      "2406.18382\n",
      "2406.14048\n",
      "2406.13352\n",
      "2405.20902\n",
      "2404.07234\n",
      "2403.17710\n",
      "2403.14720\n",
      "2403.09832\n",
      "2403.04957\n",
      "2403.03792\n",
      "2403.02691\n",
      "2311.14876\n",
      "2311.16119\n",
      "2310.12815\n",
      "2306.05499\n",
      "2302.12173\n"
     ]
    }
   ],
   "source": [
    "#读取prompt_injection.md\n",
    "import re\n",
    "with open('prompt_injection.md', 'r', encoding='utf-8') as file:\n",
    "    markdown_text = file.read()\n",
    "print(markdown_text)\n",
    "\n",
    "# 正则表达式匹配arXiv链接\n",
    "arxiv_pattern = r'\\d{4}\\.\\d{5,}'\n",
    "\n",
    "# 搜索所有匹配项\n",
    "matches = re.findall(arxiv_pattern, markdown_text)\n",
    "\n",
    "# 打印匹配到的链接\n",
    "for match in matches:\n",
    "    print(match)"
   ]
  }
 ],
 "metadata": {
  "kernelspec": {
   "display_name": "lmdeploy",
   "language": "python",
   "name": "python3"
  },
  "language_info": {
   "codemirror_mode": {
    "name": "ipython",
    "version": 3
   },
   "file_extension": ".py",
   "mimetype": "text/x-python",
   "name": "python",
   "nbconvert_exporter": "python",
   "pygments_lexer": "ipython3",
   "version": "3.12.3"
  }
 },
 "nbformat": 4,
 "nbformat_minor": 2
}
